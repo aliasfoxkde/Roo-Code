{
  "cells": [
    {
      "cell_type": "markdown",
      "metadata": {},
      "source": [
        "# Data Exploration Notebook\n\nThis notebook provides an example of how to explore and analyze data using the AI/ML Project Template."
      ]
    },
    {
      "cell_type": "code",
      "execution_count": null,
      "metadata": {},
      "outputs": [],
      "source": [
        "# Import required libraries\nimport pandas as pd\nimport numpy as np\nimport matplotlib.pyplot as plt\nimport seaborn as sns\n\n# Import project modules\nimport sys\nsys.path.append('../src')\n\nfrom data.ingestion import load_data\nfrom data.preprocessing import explore_data\n\n# Set plotting style\nplt.style.use('seaborn')\nsns.set_palette('deep')\n\n# Configure pandas display options\npd.set_option('display.max_columns', None)\npd.set_option('display.max_rows', 100)\npd.set_option('display.width', None)"
      ]
    },
    {
      "cell_type": "code",
      "execution_count": null,
      "metadata": {},
      "outputs": [],
      "source": [
        "# Load data\n# Replace 'your_data.csv' with the actual path to your data file\ndf = load_data('../data/raw/your_data.csv')\n\n# Display basic information about the dataset\nprint(f'Dataset shape: {df.shape}')\nprint(f'Dataset memory usage: {df.memory_usage(deep=True).sum() / 1024**2:.2f} MB')\ndf.head()"
      ]
    },
    {
      "cell_type": "code",
      "execution_count": null,
      "metadata": {},
      "outputs": [],
      "source": [
        "# Display dataset information\ndf.info()"
      ]
    },
    {
      "cell_type": "code",
      "execution_count": null,
      "metadata": {},
      "outputs": [],
      "source": [
        "# Statistical summary of numerical columns\ndf.describe()"
      ]
    },
    {
      "cell_type": "code",
      "execution_count": null,
      "metadata": {},
      "outputs": [],
      "source": [
        "# Check for missing values\nmissing_values = df.isnull().sum()\nmissing_percent = 100 * missing_values / len(df)\n\nmissing_data = pd.DataFrame({\n    'Missing Values': missing_values,\n    'Percentage': missing_percent\n}).sort_values('Percentage', ascending=False)\n\nmissing_data[missing_data['Missing Values'] > 0]"
      ]
    },
    {
      "cell_type": "code",
      "execution_count": null,
      "metadata": {},
      "outputs": [],
      "source": [
        "# Visualize missing values\nplt.figure(figsize=(12, 6))\nsns.heatmap(df.isnull(), cbar=True, yticklabels=False, cmap='viridis')\nplt.title('Missing Values Heatmap')\nplt.show()"
      ]
    },
    {
      "cell_type": "code",
      "execution_count": null,
      "metadata": {},
      "outputs": [],
      "source": [
        "# Distribution of numerical features\nnumerical_columns = df.select_dtypes(include=[np.number]).columns.tolist()\n\nfig, axes = plt.subplots(len(numerical_columns), 2, figsize=(15, 5*len(numerical_columns)))\n\nfor i, column in enumerate(numerical_columns):\n    # Histogram\n    sns.histplot(df[column], kde=True, ax=axes[i, 0])\n    axes[i, 0].set_title(f'Distribution of {column}')\n    \n    # Box plot\n    sns.boxplot(y=df[column], ax=axes[i, 1])\n    axes[i, 1].set_title(f'Box Plot of {column}')\n\nplt.tight_layout()\nplt.show()"
      ]
    },
    {
      "cell_type": "code",
      "execution_count": null,
      "metadata": {},
      "outputs": [],
      "source": [
        "# Distribution of categorical features\ncategorical_columns = df.select_dtypes(include=['object']).columns.tolist()\n\nfor column in categorical_columns:\n    plt.figure(figsize=(12, 6))\n    value_counts = df[column].value_counts()\n    sns.barplot(x=value_counts.index, y=value_counts.values)\n    plt.title(f'Distribution of {column}')\n    plt.xticks(rotation=45)\n    plt.show()\n    \n    print(f'\n{column} value counts:')\n    print(value_counts)"
      ]
    },
    {
      "cell_type": "code",
      "execution_count": null,
      "metadata": {},
      "outputs": [],
      "source": [
        "# Correlation matrix\ncorrelation_matrix = df.corr()\n\nplt.figure(figsize=(12, 10))\nsns.heatmap(correlation_matrix, annot=True, cmap='coolwarm', center=0,\n            square=True, linewidths=0.5)\nplt.title('Correlation Matrix')\nplt.show()"
      ]
    },
    {
      "cell_type": "code",
      "execution_count": null,
      "metadata": {},
      "outputs": [],
      "source": [
        "# Pairplot for selected features (select a subset if you have many features)\nselected_features = numerical_columns[:5]  # Adjust as needed\n\nsns.pairplot(df[selected_features])\nplt.show()"
      ]
    },
    {
      "cell_type": "code",
      "execution_count": null,
      "metadata": {},
      "outputs": [],
      "source": [
        "# Save cleaned data (optional)\n# df.to_csv('../data/processed/cleaned_data.csv', index=False)\n\nprint('Data exploration completed!')"
      ]
    }
  ],
  "metadata": {
    "kernelspec": {
      "display_name": "Python 3",
      "language": "python",
      "name": "python3"
    },
    "language_info": {
      "codemirror_mode": {
        "name": "ipython",
        "version": 3
      },
      "file_extension": ".py",
      "mimetype": "text/x-python",
      "name": "python",
      "nbconvert_exporter": "python",
      "pygments_lexer": "ipython3",
      "version": "3.8.5"
    }
  },
  "nbformat": 4,
  "nbformat_minor": 4
}